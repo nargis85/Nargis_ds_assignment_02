{
 "cells": [
  {
   "cell_type": "markdown",
   "id": "aa22f9d2",
   "metadata": {},
   "source": [
    "# 1. Variables, 2. If, else conditions,3. Loop# PYTHON"
   ]
  },
  {
   "cell_type": "markdown",
   "id": "c4846aaf",
   "metadata": {},
   "source": [
    "# write a python code of a program that reads two numbers from the user, and prints their sum, product and difference"
   ]
  },
  {
   "cell_type": "code",
   "execution_count": 3,
   "id": "b7d8ff19",
   "metadata": {},
   "outputs": [
    {
     "name": "stdout",
     "output_type": "stream",
     "text": [
      "enter your first number10\n",
      "enter your second number20\n",
      "30\n",
      "200\n",
      "-10\n"
     ]
    }
   ],
   "source": [
    "var1 =int(input('enter your first number'))\n",
    "var2= int(input('enter your second number'))\n",
    "\n",
    "sum=var1+var2\n",
    "product=var1*var2\n",
    "differnce=var1-var2\n",
    "\n",
    "print(sum)\n",
    "print(product)\n",
    "print(differnce)"
   ]
  },
  {
   "cell_type": "code",
   "execution_count": 4,
   "id": "14e8eb49",
   "metadata": {},
   "outputs": [
    {
     "name": "stdout",
     "output_type": "stream",
     "text": [
      "enter your first number: 10\n",
      "enter your second number: 30\n",
      "20\n"
     ]
    }
   ],
   "source": [
    "#write a python code of a program that reads two numbers, subtracts the smaller number from the larger one and print the result\n",
    "\n",
    "number1=int(input('enter your first number: '))\n",
    "number2=int(input('enter your second number: '))\n",
    "\n",
    "if number1>number2:\n",
    "    subtract=number1-number2\n",
    "else:\n",
    "    subtract=number2-number1\n",
    "    \n",
    "print(subtract)    "
   ]
  },
  {
   "cell_type": "code",
   "execution_count": 5,
   "id": "046ac65d",
   "metadata": {},
   "outputs": [
    {
     "name": "stdout",
     "output_type": "stream",
     "text": [
      "*****\n",
      "*****\n",
      "*****\n",
      "*****\n",
      "*****\n"
     ]
    }
   ],
   "source": [
    "#square pattern in python\n",
    "\n",
    "for i in range(0,5):\n",
    "    for j in range(0,5):\n",
    "        print('*', end=\"\")\n",
    "    print()    "
   ]
  },
  {
   "cell_type": "code",
   "execution_count": null,
   "id": "2eb65263",
   "metadata": {},
   "outputs": [],
   "source": []
  }
 ],
 "metadata": {
  "kernelspec": {
   "display_name": "Python 3 (ipykernel)",
   "language": "python",
   "name": "python3"
  },
  "language_info": {
   "codemirror_mode": {
    "name": "ipython",
    "version": 3
   },
   "file_extension": ".py",
   "mimetype": "text/x-python",
   "name": "python",
   "nbconvert_exporter": "python",
   "pygments_lexer": "ipython3",
   "version": "3.9.12"
  }
 },
 "nbformat": 4,
 "nbformat_minor": 5
}
